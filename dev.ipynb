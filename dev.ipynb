{
 "cells": [
  {
   "cell_type": "code",
   "execution_count": null,
   "metadata": {},
   "outputs": [],
   "source": [
    "import requests\n",
    "import os\n",
    "import urllib.parse\n",
    "import posixpath\n",
    "import pandas as pd\n",
    "import paramiko"
   ]
  },
  {
   "cell_type": "code",
   "execution_count": null,
   "metadata": {},
   "outputs": [],
   "source": [
    "#import rudaux2_config"
   ]
  },
  {
   "cell_type": "code",
   "execution_count": null,
   "metadata": {},
   "outputs": [],
   "source": [
    "# make course an object\n",
    "class course():\n",
    "    \n",
    "    def __init__(self, canvasHostName, courseID):\n",
    "        self.canvasHostName = canvasHostName\n",
    "        self.courseID = courseID\n",
    "        print('Create class with Canvas host name:{0} and course ID: {1})'.\n",
    "              format(self.canvasHostName, self.courseID))\n",
    "        \n",
    "    def get_student_ids(self):\n",
    "        '''Read Canvas authentication token from an environment variable, takes a\n",
    "        Canvas host name (includes https://) and the Canvas course id and returns\n",
    "        a list of the student id's of all students currently enrolled in the course.\n",
    "    \n",
    "        Example:\n",
    "        course.get_student_ids()'''\n",
    "        #canvas_token = rudaux2_config.CANVAS_TOKEN\n",
    "        canvas_token = os.environ[\"CANVAS_TOKEN\"]\n",
    "        url_path = posixpath.join(\"api\", \"v1\", \"courses\", self.courseID, \"enrollments\")\n",
    "        api_url = urllib.parse.urljoin(self.canvasHostName, url_path)\n",
    "        resp = requests.get(\n",
    "              url = api_url,\n",
    "              headers = {\n",
    "                \"Authorization\": f\"Bearer {canvas_token}\",\n",
    "                \"Accept\": \"application/json+canvas-string-ids\"\n",
    "              },\n",
    "              json={\n",
    "                \"enrollment_type\": [\"student\"],\n",
    "                \"per_page\": \"500\"\n",
    "              },\n",
    "            )\n",
    "        students = resp.json()\n",
    "        student_id = []\n",
    "        for student in students:\n",
    "            student_id.append(student['user_id'])\n",
    "        return student_id\n",
    "    \n",
    "    def get_assignments(self):\n",
    "        '''Read Canvas authentication token from an environment variable, takes a\n",
    "        Canvas host name (includes https://) and the Canvas course id and returns\n",
    "        a Pandas data frame with all existing assignments and their attributes/data\n",
    "\n",
    "        Example:\n",
    "        course.get_assignments()'''\n",
    "        #canvas_token = rudaux2_config.CANVAS_TOKEN\n",
    "        canvas_token = os.environ[\"CANVAS_TOKEN\"]\n",
    "        url_path = posixpath.join(\"api\", \"v1\", \"courses\", self.courseID, \"assignments\")\n",
    "        api_url = urllib.parse.urljoin(self.canvasHostName, url_path)\n",
    "        resp = requests.get(\n",
    "          url=api_url,\n",
    "          headers={\n",
    "            \"Authorization\": f\"Bearer {canvas_token}\",\n",
    "            \"Accept\": \"application/json+canvas-string-ids\"\n",
    "          },\n",
    "          json={\n",
    "            \"per_page\": \"2000\"\n",
    "          },\n",
    "        )\n",
    "        assignments = resp.json()\n",
    "        assign_data = pd.DataFrame.from_dict(assignments)\n",
    "        return assign_data\n",
    "    \n",
    "    def get_assignment_due_date(self, assignment):\n",
    "        '''Takes the name of a Canvas assignment and returns the due date.\n",
    "        \n",
    "        Example:\n",
    "        course.get_assignment_due_date('worksheet_01')'''\n",
    "        assignments = self.get_assignments()\n",
    "        assignment = assignments[['name', 'due_at']].query('name == @assignment')\n",
    "        due_date = assignment['due_at'].to_numpy()[0]\n",
    "        due_date = due_date.replace(\"T\", \"-\")\n",
    "        due_date = due_date.replace(\":\", \"-\")\n",
    "        return due_date[:16]"
   ]
  },
  {
   "cell_type": "code",
   "execution_count": null,
   "metadata": {},
   "outputs": [],
   "source": [
    "# All the settings for the assignment\n",
    "assignment = 'worksheet_01'\n",
    "due_day = 'sat' # should be sat or wed\n",
    "grader = 'timberst' # should be graders cwl\n",
    "\n",
    "# All the settings for the course \n",
    "dsci100 = course(\"https://canvas.ubc.ca\", \"40616\")\n",
    "students = dsci100.get_student_ids()\n",
    "due_date = dsci100.get_assignment_due_date(assignment)[:13]\n",
    "course_storage_path = '/tank/home/dsci100'\n",
    "stu_repo_name = 'dsci-100'\n",
    "ins_repo_name = 'dsci-100-instructor'\n",
    "assignment_release_path = 'materials'\n",
    "snapshot_prefix = 'zfs-auto-snap_' + due_day + '-'\n",
    "snapshot_delay = '10'\n",
    "\n",
    "# Create copy from and to paths\n",
    "copy_from_path = os.path.join('.zfs', 'snapshot', snapshot_prefix + due_date + snapshot_delay)\n",
    "copy_to_path = os.path.join(course_storage_path, grader, ins_repo_name, 'submitted')"
   ]
  },
  {
   "cell_type": "code",
   "execution_count": null,
   "metadata": {},
   "outputs": [],
   "source": [
    "student_path_remote = os.path.join(course_storage_path, str(students[0]))\n",
    "student_path_remote"
   ]
  },
  {
   "cell_type": "code",
   "execution_count": null,
   "metadata": {},
   "outputs": [],
   "source": [
    "assignment_path = os.path.join(student_path_remote, copy_from_path, stu_repo_name, assignment_release_path, assignment, assignment + '.ipynb')\n",
    "assignment_path"
   ]
  },
  {
   "cell_type": "raw",
   "metadata": {},
   "source": [
    "ls /tank/home/dsci100/313452/.zfs/snapshot/zfs-auto-snap_sat-2019-09-08-0110/dsci-100/materials/worksheet_01/worksheet_01.ipynb"
   ]
  },
  {
   "cell_type": "code",
   "execution_count": null,
   "metadata": {},
   "outputs": [],
   "source": [
    "student_path_local = os.path.join(copy_to_path, str(students[0]))\n",
    "student_path_local"
   ]
  },
  {
   "cell_type": "code",
   "execution_count": null,
   "metadata": {},
   "outputs": [],
   "source": [
    "submission_path = os.path.join(student_path_local, assignment, assignment + '.ipynb')\n",
    "submission_path"
   ]
  },
  {
   "cell_type": "code",
   "execution_count": null,
   "metadata": {},
   "outputs": [],
   "source": [
    "ssh = paramiko.SSHClient() \n",
    "ssh.load_host_keys(os.path.expanduser(os.path.join(\"~\", \".ssh\", \"known_hosts\")))\n",
    "ssh.set_missing_host_key_policy(paramiko.AutoAddPolicy())\n",
    "ssh.connect(\"hub-prod-dsci.stat.ubc.ca\", username=\"stty2u\")\n",
    "sftp = ssh.open_sftp()"
   ]
  },
  {
   "cell_type": "code",
   "execution_count": null,
   "metadata": {},
   "outputs": [],
   "source": [
    "if not os.path.exists(student_path_local):\n",
    "    os.mkdir(student_path_local)\n",
    "    os.mkdir(os.path.join(student_path_local, assignment))  \n",
    "else:   \n",
    "    if not os.path.exists(os.path.join(student_path_local, assignment)):\n",
    "        os.mkdir(os.path.join(student_path_local, assignment))"
   ]
  },
  {
   "cell_type": "code",
   "execution_count": null,
   "metadata": {},
   "outputs": [],
   "source": [
    "sftp.get(remotepath=assignment_path, localpath=submission_path)\n",
    "sftp.close()\n",
    "ssh.close()"
   ]
  },
  {
   "cell_type": "code",
   "execution_count": null,
   "metadata": {},
   "outputs": [],
   "source": [
    "# looping over student id\n",
    "for student in students:\n",
    "    student_path = os.path.join(course_storage_path, str(student))\n",
    "\n",
    "    assignment_path = os.path.join(student_path, copy_from_path, stu_repo_name, assignment_release_path, assignment)\n",
    "\n",
    "    submission_path = os.path.join(copy_to_path, 'submitted', str(student), assignment)\n",
    "    try:\n",
    "      shutil.copytree(assignment_path, submission_path)\n",
    "    except:\n",
    "      pass"
   ]
  }
 ],
 "metadata": {
  "kernelspec": {
   "display_name": "Python 3",
   "language": "python",
   "name": "python3"
  },
  "language_info": {
   "codemirror_mode": {
    "name": "ipython",
    "version": 3
   },
   "file_extension": ".py",
   "mimetype": "text/x-python",
   "name": "python",
   "nbconvert_exporter": "python",
   "pygments_lexer": "ipython3",
   "version": "3.7.3"
  }
 },
 "nbformat": 4,
 "nbformat_minor": 2
}
