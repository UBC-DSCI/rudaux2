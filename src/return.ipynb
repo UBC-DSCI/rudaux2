{
 "cells": [
  {
   "cell_type": "code",
   "execution_count": null,
   "metadata": {},
   "outputs": [],
   "source": [
    "import requests\n",
    "import os\n",
    "import urllib.parse\n",
    "import posixpath\n",
    "import pandas as pd"
   ]
  },
  {
   "cell_type": "code",
   "execution_count": null,
   "metadata": {},
   "outputs": [],
   "source": [
    "# future command args\n",
    "assignment = 'worksheet_01'\n",
    "\n",
    "# future course config\n",
    "path_to_grades_csv = 'grades.csv'\n",
    "\n",
    "# get student id & grades as percentage\n",
    "nbgrader_grades = pd.read_csv(path_to_grades_csv)\n",
    "nbgrader_grades = nbgrader_grades.query('assignment == @assignment')\n",
    "nbgrader_grades['score'] = nbgrader_grades['score']/nbgrader_grades['max_score']*100\n",
    "nbgrader_grades = nbgrader_grades[['student_id','score']]\n",
    "nbgrader_grades.to_csv(assignment + '-grades.csv', index=False)"
   ]
  },
  {
   "cell_type": "code",
   "execution_count": null,
   "metadata": {},
   "outputs": [],
   "source": [
    "canvasHostName = 'https://canvas.ubc.ca'\n",
    "courseID = '40616'\n",
    "canvas_token = os.environ[\"CANVAS_TOKEN\"]\n",
    "api_prefix = 'https://canvas.ubc.ca/api/v1/courses/40616/assignments/365108/submissions/'"
   ]
  },
  {
   "cell_type": "code",
   "execution_count": null,
   "metadata": {},
   "outputs": [],
   "source": [
    "for index, student in nbgrader_grades.iterrows():\n",
    "        stu = str(int(student['student_id']))\n",
    "        urllib.parse.urljoin(api_prefix, stu)\n",
    "        resp = requests.put(\n",
    "              url = urllib.parse.urljoin(api_prefix, stu),\n",
    "              headers = {\n",
    "                \"Authorization\": f\"Bearer {canvas_token}\",\n",
    "                \"Accept\": \"application/json+canvas-string-ids\"\n",
    "              },\n",
    "              json={\n",
    "                  \"submission\": {\n",
    "                    \"posted_grade\":student['score']\n",
    "                    }\n",
    "                }\n",
    "            )"
   ]
  }
 ],
 "metadata": {
  "kernelspec": {
   "display_name": "Python 3",
   "language": "python",
   "name": "python3"
  },
  "language_info": {
   "codemirror_mode": {
    "name": "ipython",
    "version": 3
   },
   "file_extension": ".py",
   "mimetype": "text/x-python",
   "name": "python",
   "nbconvert_exporter": "python",
   "pygments_lexer": "ipython3",
   "version": "3.7.3"
  }
 },
 "nbformat": 4,
 "nbformat_minor": 2
}
